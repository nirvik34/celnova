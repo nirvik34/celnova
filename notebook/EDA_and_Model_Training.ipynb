{
 "cells": [
  {
   "cell_type": "markdown",
   "id": "4a549e03",
   "metadata": {},
   "source": [
    "### downloading the dataset of images \n",
    "#### Source: Kaggle"
   ]
  },
  {
   "cell_type": "code",
   "execution_count": null,
   "id": "244f4f12",
   "metadata": {},
   "outputs": [],
   "source": [
    "import pandas as pd\n",
    "df = pd.read_csv(\"../data/HAM10000_metadata.csv\")\n",
    "print(df.head())"
   ]
  },
  {
   "cell_type": "code",
   "execution_count": null,
   "id": "1d2d7e19",
   "metadata": {},
   "outputs": [],
   "source": [
    "import cv2\n",
    "import numpy as np\n",
    "import os\n",
    "\n",
    "def load_images(image_dir, df, size=(64,64)):\n",
    "    images = []\n",
    "    labels = []\n",
    "    for i, row in df.iterrows():\n",
    "        img_path = os.path.join(image_dir, row['image_id'] + \".jpg\")\n",
    "        img = cv2.imread(img_path)\n",
    "        if img is not None:\n",
    "            img = cv2.resize(img, size)\n",
    "            images.append(img / 255.0)  # normalize\n",
    "            labels.append(row['dx'])\n",
    "    return np.array(images), labels\n"
   ]
  },
  {
   "cell_type": "code",
   "execution_count": null,
   "id": "5a5d34ef",
   "metadata": {},
   "outputs": [],
   "source": [
    "images, labels = load_images(\"../data/HAM10000_images_part_1\", df, size=(64,64))\n",
    "print(f\"Loaded {len(images)} images and {len(labels)} labels.\")\n"
   ]
  },
  {
   "cell_type": "code",
   "execution_count": null,
   "id": "49543247",
   "metadata": {},
   "outputs": [],
   "source": [
    "from sklearn.preprocessing import LabelEncoder\n",
    "from tensorflow.keras.utils import to_categorical\n",
    "\n",
    "label_encoder = LabelEncoder()\n",
    "labels_encoded = label_encoder.fit_transform(labels) \n",
    "labels_categorical = to_categorical(labels_encoded)  "
   ]
  },
  {
   "cell_type": "markdown",
   "id": "af53805d",
   "metadata": {},
   "source": [
    "### Model TRaining"
   ]
  },
  {
   "cell_type": "code",
   "execution_count": null,
   "id": "86aa5584",
   "metadata": {},
   "outputs": [],
   "source": [
    "\n",
    "from tensorflow.keras.models import Sequential\n",
    "from tensorflow.keras.layers import Conv2D, MaxPooling2D, Flatten, Dense, Dropout\n",
    "from sklearn.model_selection import train_test_split\n",
    "\n",
    "# Split data into train and test\n",
    "X_train, X_test, y_train, y_test = train_test_split(images, labels_categorical, test_size=0.2, random_state=42)\n",
    "\n",
    "model = Sequential([\n",
    "    Conv2D(32, (3,3), activation='relu', input_shape=(64, 64, 3)),\n",
    "    MaxPooling2D(2,2),\n",
    "    Conv2D(64, (3,3), activation='relu'),\n",
    "    MaxPooling2D(2,2),\n",
    "    Flatten(),\n",
    "    Dense(128, activation='relu'),\n",
    "    Dropout(0.5),\n",
    "    Dense(y_train.shape[1], activation='softmax')\n",
    "])\n",
    "\n",
    "model.compile(optimizer='adam', loss='categorical_crossentropy', metrics=['accuracy'])\n",
    "\n",
    "# Model training\n",
    "history = model.fit(X_train, y_train, epochs=10, batch_size=32, validation_data=(X_test, y_test))\n",
    "\n",
    "# Save the model in the recommended Keras format\n",
    "model.save('../model/model.keras')\n"
   ]
  },
  {
   "cell_type": "markdown",
   "id": "2812081a",
   "metadata": {},
   "source": [
    "### This is the outupt block\n"
   ]
  },
  {
   "cell_type": "markdown",
   "id": "dfc973d4",
   "metadata": {},
   "source": [
    "#### Training Accuracy\n",
    "The following plot shows the training and validation accuracy over epochs."
   ]
  },
  {
   "cell_type": "code",
   "execution_count": null,
   "id": "da2d4939",
   "metadata": {},
   "outputs": [],
   "source": [
    "import matplotlib.pyplot as plt\n",
    "\n",
    "plt.figure(figsize=(8,5))\n",
    "plt.plot(history.history['accuracy'], label='Training Accuracy')\n",
    "plt.plot(history.history['val_accuracy'], label='Validation Accuracy')\n",
    "plt.title('Model Accuracy')\n",
    "plt.xlabel('Epoch')\n",
    "plt.ylabel('Accuracy')\n",
    "plt.legend()\n",
    "plt.show()"
   ]
  },
  {
   "cell_type": "markdown",
   "id": "f52f247e",
   "metadata": {},
   "source": [
    "#### Confusion Matrix\n",
    "The confusion matrix below shows the performance of the model on the test set."
   ]
  },
  {
   "cell_type": "code",
   "execution_count": null,
   "id": "7b431dbd",
   "metadata": {},
   "outputs": [],
   "source": [
    "import numpy as np\n",
    "\n",
    "y_pred = model.predict(X_test)\n",
    "y_pred_classes = np.argmax(y_pred, axis=1)\n",
    "y_true = np.argmax(y_test, axis=1)\n",
    "\n",
    "from sklearn.metrics import confusion_matrix\n",
    "import seaborn as sns\n",
    "\n",
    "cm = confusion_matrix(y_true, y_pred_classes)\n",
    "plt.figure(figsize=(8,6))\n",
    "sns.heatmap(cm, annot=True, fmt='d', cmap='Blues', xticklabels=label_encoder.classes_, yticklabels=label_encoder.classes_)\n",
    "plt.xlabel('Predicted')\n",
    "plt.ylabel('True')\n",
    "plt.title('Confusion Matrix')\n",
    "plt.show()"
   ]
  },
  {
   "cell_type": "code",
   "execution_count": null,
   "id": "427343b7",
   "metadata": {},
   "outputs": [],
   "source": [
    "pip install seaborn"
   ]
  },
  {
   "cell_type": "markdown",
   "id": "c278e41e",
   "metadata": {},
   "source": [
    "#### Predictions\n",
    "Below are sample predictions from the test set, showing the true and predicted labels."
   ]
  },
  {
   "cell_type": "code",
   "execution_count": null,
   "id": "832c31f4",
   "metadata": {},
   "outputs": [],
   "source": [
    "# Display a few test images with their predicted and true labels\n",
    "for i in range(5):\n",
    "    plt.imshow(X_test[i])\n",
    "    plt.title(f\"True: {label_encoder.classes_[y_true[i]]}, Pred: {label_encoder.classes_[y_pred_classes[i]]}\")\n",
    "    plt.axis('off')\n",
    "    plt.show()\n",
    "\n",
    "# Example output image (replace with your own if needed)\n",
    "from PIL import Image\n",
    "import io\n",
    "import base64\n",
    "from IPython.display import display\n",
    "\n",
    "# Provided example image (replace with actual file path if available)\n",
    "img_path = 'example_prediction.png'  # Save the provided image as this file in the notebook directory\n",
    "try:\n",
    "    img = Image.open(img_path)\n",
    "    display(img)\n",
    "except FileNotFoundError:\n",
    "    print('Example prediction image not found. Please add it as example_prediction.png.')"
   ]
  },
  {
   "cell_type": "code",
   "execution_count": null,
   "id": "49574982",
   "metadata": {},
   "outputs": [],
   "source": [
    "\n",
    "import numpy as np\n",
    "from sklearn.metrics import classification_report\n",
    "import matplotlib.pyplot as plt\n",
    "\n",
    "# Predict class probabilities and get class indices\n",
    "y_pred = model.predict(X_test)\n",
    "y_pred_classes = np.argmax(y_pred, axis=1)\n",
    "y_true = np.argmax(y_test, axis=1)\n",
    "\n",
    "\n",
    "print(classification_report(y_true, y_pred_classes, target_names=label_encoder.classes_))\n",
    "\n",
    "# Display a few test images with their predicted and true labels\n",
    "for i in range(5):\n",
    "    plt.imshow(X_test[i])\n",
    "    plt.title(f\"True: {label_encoder.classes_[y_true[i]]}, Pred: {label_encoder.classes_[y_pred_classes[i]]}\")\n",
    "    plt.axis('off')\n",
    "    plt.show()\n"
   ]
  }
 ],
 "metadata": {
  "kernelspec": {
   "display_name": ".venv",
   "language": "python",
   "name": "python3"
  },
  "language_info": {
   "codemirror_mode": {
    "name": "ipython",
    "version": 3
   },
   "file_extension": ".py",
   "mimetype": "text/x-python",
   "name": "python",
   "nbconvert_exporter": "python",
   "pygments_lexer": "ipython3",
   "version": "3.12.4"
  }
 },
 "nbformat": 4,
 "nbformat_minor": 5
}
